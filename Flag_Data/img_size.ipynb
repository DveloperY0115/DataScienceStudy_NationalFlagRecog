{
 "cells": [
  {
   "cell_type": "code",
   "execution_count": 29,
   "metadata": {},
   "outputs": [],
   "source": [
    "#Image Preprocessing\n",
    "#Image size통일\n",
    "\n",
    "import sys\n",
    "from os import rename, listdir\n",
    "from IPython.display import Image, display\n",
    "\n",
    "from PIL import Image\n",
    "import importlib"
   ]
  },
  {
   "cell_type": "code",
   "execution_count": 30,
   "metadata": {},
   "outputs": [],
   "source": [
    "import numpy as np\n",
    "from tensorflow.keras.preprocessing.image import load_img, img_to_array\n",
    "\n",
    "image_size = 64\n",
    "\n",
    "#개별적으로 read_and_prep\n",
    "def read_and_prep_image(img_path, img_height=image_size, img_width=image_size):\n",
    "    img=load_img(img_path,target_size=(img_height,img_width))\n",
    "    img.save(img_path)\n",
    "    return img"
   ]
  },
  {
   "cell_type": "code",
   "execution_count": 34,
   "metadata": {},
   "outputs": [],
   "source": [
    "from PIL import ImageFile\n",
    "ImageFile.LOAD_TRUNCATED_IMAGES = True\n",
    "\n",
    "if __name__ == \"__main__\":\n",
    "    img_paths = \"C:\\\\Users\\\\82108\\\\Documents\\\\GitHub\\\\DataScienceStudy_NationalFlagRecog\\\\Flag_Data\\\\flagdata_added\\\\\"\n",
    "    for image_path in listdir(img_paths):\n",
    "        for file in listdir((img_paths+image_path+\"\\\\\")):\n",
    "            read_and_prep_image(img_paths+image_path+\"\\\\\"+file)"
   ]
  },
  {
   "cell_type": "code",
   "execution_count": null,
   "metadata": {},
   "outputs": [],
   "source": []
  }
 ],
 "metadata": {
  "kernelspec": {
   "display_name": "Python 3",
   "language": "python",
   "name": "python3"
  },
  "language_info": {
   "codemirror_mode": {
    "name": "ipython",
    "version": 3
   },
   "file_extension": ".py",
   "mimetype": "text/x-python",
   "name": "python",
   "nbconvert_exporter": "python",
   "pygments_lexer": "ipython3",
   "version": "3.7.4"
  }
 },
 "nbformat": 4,
 "nbformat_minor": 4
}
