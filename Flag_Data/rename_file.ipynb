{
 "cells": [
  {
   "cell_type": "code",
   "execution_count": 20,
   "metadata": {},
   "outputs": [],
   "source": [
    "import sys\n",
    "\n",
    "from os import rename, listdir\n"
   ]
  },
  {
   "cell_type": "code",
   "execution_count": 21,
   "metadata": {},
   "outputs": [],
   "source": [
    "def rename_file(path, alpha_code, check):\n",
    "    idx = 500    # 시작 번호 설정 (ex. NAME1.png)\n",
    "    if(check): idx=idx+500\n",
    "    for file in listdir(path):\n",
    "        idx += 1\n",
    "        rename(path + file, path + alpha_code + str(idx) + '.png')\n",
    "    print(str(idx) + \" files have been renamed.\")"
   ]
  },
  {
   "cell_type": "code",
   "execution_count": 22,
   "metadata": {},
   "outputs": [
    {
     "name": "stdout",
     "output_type": "stream",
     "text": [
      "646 files have been renamed.\n",
      "1130 files have been renamed.\n",
      "592 files have been renamed.\n",
      "1066 files have been renamed.\n",
      "900 files have been renamed.\n",
      "1094 files have been renamed.\n",
      "582 files have been renamed.\n",
      "575 files have been renamed.\n",
      "629 files have been renamed.\n"
     ]
    }
   ],
   "source": [
    "if __name__ == \"__main__\":\n",
    "    img_paths = \"C:\\\\Users\\\\82108\\\\Documents\\\\GitHub\\\\DataScienceStudy_NationalFlagRecog\\\\Flag_Data\\\\flagdata_added\\\\\"\n",
    "    for image_path in listdir(img_paths):\n",
    "        alpha_code = image_path.split(\"_\")[0]\n",
    "        if(image_path.split(\"_\")[-1]==\"2\"):\n",
    "            rename_file(img_paths+image_path+\"\\\\\", alpha_code, 1)\n",
    "        else:\n",
    "            rename_file(img_paths+image_path+\"\\\\\", alpha_code, 0)"
   ]
  },
  {
   "cell_type": "code",
   "execution_count": null,
   "metadata": {},
   "outputs": [],
   "source": []
  }
 ],
 "metadata": {
  "kernelspec": {
   "display_name": "Python 3",
   "language": "python",
   "name": "python3"
  },
  "language_info": {
   "codemirror_mode": {
    "name": "ipython",
    "version": 3
   },
   "file_extension": ".py",
   "mimetype": "text/x-python",
   "name": "python",
   "nbconvert_exporter": "python",
   "pygments_lexer": "ipython3",
   "version": "3.7.4"
  }
 },
 "nbformat": 4,
 "nbformat_minor": 4
}
