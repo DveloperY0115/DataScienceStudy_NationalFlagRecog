{
 "cells": [
  {
   "cell_type": "code",
   "execution_count": 50,
   "metadata": {},
   "outputs": [],
   "source": [
    "import os # miscelllaneous operating system interfaces\n",
    "import shutil # high-level file operations"
   ]
  },
  {
   "cell_type": "code",
   "execution_count": 51,
   "metadata": {},
   "outputs": [],
   "source": [
    "base_dir = 'C:\\\\Users\\\\82108\\\\Documents\\\\GitHub\\\\DataScienceStudy_NationalFlagRecog\\\\Flag_Data'\n",
    "train_dir = os.path.join(base_dir, 'train')\n",
    "val_dir = os.path.join(base_dir,'val')\n",
    "test_dir = os.path.join(base_dir,'test')\n",
    "\n",
    "countries = ['can','eng','fra','ger','ita','kor','usa']\n",
    "img_dir = []\n",
    "\n",
    "for country in countries:\n",
    "    img_dir.append((country,train_dir+'\\\\'+country))"
   ]
  },
  {
   "cell_type": "code",
   "execution_count": 52,
   "metadata": {},
   "outputs": [
    {
     "name": "stdout",
     "output_type": "stream",
     "text": [
      "can: 359\n",
      "eng: 277\n",
      "fra: 307\n",
      "ger: 160\n",
      "ita: 330\n",
      "kor: 317\n",
      "usa: 279\n",
      "2029\n"
     ]
    }
   ],
   "source": [
    "total = 0\n",
    "\n",
    "for country,_dir in img_dir:\n",
    "    print(country+\": \"+str(len(os.listdir(_dir))))\n",
    "    total += len(os.listdir(_dir))\n",
    "    \n",
    "print(total)"
   ]
  },
  {
   "cell_type": "code",
   "execution_count": 53,
   "metadata": {},
   "outputs": [],
   "source": [
    "os.mkdir(test_dir)\n",
    "import random\n",
    "\n",
    "# Copy every files to val dataset folder\n",
    "# train test split: copy 20% of the data to validation dataset\n",
    "# If files already exist, no need to run this code.\n",
    "for country,_dir in img_dir:\n",
    "    temp_dir = os.path.join(test_dir,country)\n",
    "    os.mkdir(temp_dir)\n",
    "    test_dirs = os.listdir(_dir)\n",
    "    for name in test_dirs[:len(test_dirs)//10]:\n",
    "        src = os.path.join(_dir,name)\n",
    "        dst = os.path.join(temp_dir,name)\n",
    "        # should be moved, not copied.\n",
    "        shutil.copyfile(src,dst)"
   ]
  },
  {
   "cell_type": "code",
   "execution_count": 26,
   "metadata": {},
   "outputs": [],
   "source": [
    "# os.mkdir(val_dir)\n",
    "import random\n",
    "\n",
    "# Copy every files to val dataset folder\n",
    "# train test split: copy 20% of the data to validation dataset\n",
    "# If files already exist, no need to run this code.\n",
    "for country,_dir in img_dir:\n",
    "    temp_dir = os.path.join(val_dir,country)\n",
    "    os.mkdir(temp_dir)\n",
    "    val_dirs = os.listdir(_dir)\n",
    "    for name in val_dirs[:len(val_dirs)//5]:\n",
    "        src = os.path.join(_dir,name)\n",
    "        dst = os.path.join(temp_dir,name)\n",
    "        shutil.copyfile(src,dst)"
   ]
  }
 ],
 "metadata": {
  "kernelspec": {
   "display_name": "Python 3",
   "language": "python",
   "name": "python3"
  },
  "language_info": {
   "codemirror_mode": {
    "name": "ipython",
    "version": 3
   },
   "file_extension": ".py",
   "mimetype": "text/x-python",
   "name": "python",
   "nbconvert_exporter": "python",
   "pygments_lexer": "ipython3",
   "version": "3.7.4"
  }
 },
 "nbformat": 4,
 "nbformat_minor": 4
}
