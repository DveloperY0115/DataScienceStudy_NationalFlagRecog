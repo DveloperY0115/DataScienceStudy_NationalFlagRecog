{
 "cells": [
  {
   "cell_type": "code",
   "execution_count": 113,
   "metadata": {},
   "outputs": [],
   "source": [
    "#Image Preprocessing\n",
    "#Image size통일\n",
    "\n",
    "import sys\n",
    "from os import rename, listdir\n",
    "from IPython.display import Image, display\n",
    "\n",
    "from PIL import Image\n",
    "import importlib"
   ]
  },
  {
   "cell_type": "code",
   "execution_count": 114,
   "metadata": {},
   "outputs": [],
   "source": [
    "import numpy as np\n",
    "from tensorflow.keras.preprocessing.image import load_img, img_to_array\n",
    "\n",
    "image_size = 64\n",
    "\n",
    "#한 번에 read_and_prep\n",
    "def read_and_prep_images(img_paths, img_height=image_size, img_width=image_size):\n",
    "    imgs = [load_img(img_path, target_size=(img_height, img_width)) for img_path in img_paths]\n",
    "    img_array = np.array([img_to_array(img) for img in imgs])\n",
    "    output = preprocess_input(img_array)\n",
    "    return(output)\n",
    "\n",
    "#개별적으로 read_and_prep\n",
    "def read_and_prep_image(img_path, img_height=image_size, img_width=image_size):\n",
    "    img=load_img(img_path,target_size=(img_height,img_width))\n",
    "    img.save(img_path)\n",
    "    return img"
   ]
  },
  {
   "cell_type": "code",
   "execution_count": 115,
   "metadata": {},
   "outputs": [],
   "source": [
    "if __name__ == \"__main__\":\n",
    "    img_paths = \"C:\\\\Users\\\\82108\\\\Study\\\\Flag_Data\\\\\\\\\"\n",
    "    for file in listdir(img_paths):\n",
    "        read_and_prep_image(img_paths+file)"
   ]
  },
  {
   "cell_type": "code",
   "execution_count": null,
   "metadata": {},
   "outputs": [],
   "source": []
  }
 ],
 "metadata": {
  "kernelspec": {
   "display_name": "Python 3",
   "language": "python",
   "name": "python3"
  },
  "language_info": {
   "codemirror_mode": {
    "name": "ipython",
    "version": 3
   },
   "file_extension": ".py",
   "mimetype": "text/x-python",
   "name": "python",
   "nbconvert_exporter": "python",
   "pygments_lexer": "ipython3",
   "version": "3.7.4"
  }
 },
 "nbformat": 4,
 "nbformat_minor": 4
}
