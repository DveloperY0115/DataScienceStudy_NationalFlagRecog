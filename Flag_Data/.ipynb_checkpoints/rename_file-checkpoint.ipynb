{
 "cells": [
  {
   "cell_type": "code",
   "execution_count": 74,
   "metadata": {},
   "outputs": [],
   "source": [
    "import sys\n",
    "\n",
    "from os import rename, listdir\n"
   ]
  },
  {
   "cell_type": "code",
   "execution_count": 75,
   "metadata": {},
   "outputs": [],
   "source": [
    "def rename_file(path, alpha_code):\n",
    "    idx = 126    # 시작 번호 설정 (ex. NAME1.png)\n",
    "    for file in listdir(path):\n",
    "        idx += 1\n",
    "        rename(path + file, path + alpha_code + str(idx) + '.png')\n",
    "    print(str(idx) + \" files have been renamed.\")"
   ]
  },
  {
   "cell_type": "code",
   "execution_count": 76,
   "metadata": {},
   "outputs": [
    {
     "name": "stdout",
     "output_type": "stream",
     "text": [
      "297 files have been renamed.\n"
     ]
    }
   ],
   "source": [
    "if __name__ == \"__main__\":\n",
    "    path = \"C:\\\\Users\\\\82108\\\\Study\\\\Flag_Data\\\\usa\\\\usa_3\\\\\"    # 해당 폴더 경로 지정 및\n",
    "    alpha_code = \"usa\"    # 국가 코드 입력\n",
    "    \n",
    "    rename_file(path, alpha_code)"
   ]
  },
  {
   "cell_type": "code",
   "execution_count": null,
   "metadata": {},
   "outputs": [],
   "source": []
  }
 ],
 "metadata": {
  "kernelspec": {
   "display_name": "Python 3",
   "language": "python",
   "name": "python3"
  },
  "language_info": {
   "codemirror_mode": {
    "name": "ipython",
    "version": 3
   },
   "file_extension": ".py",
   "mimetype": "text/x-python",
   "name": "python",
   "nbconvert_exporter": "python",
   "pygments_lexer": "ipython3",
   "version": "3.7.4"
  }
 },
 "nbformat": 4,
 "nbformat_minor": 4
}
